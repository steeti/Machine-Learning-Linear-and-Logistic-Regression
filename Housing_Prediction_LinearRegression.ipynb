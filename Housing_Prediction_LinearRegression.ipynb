{
 "cells": [
  {
   "cell_type": "markdown",
   "metadata": {},
   "source": [
    "# Simple Linear versus Ridge Regression "
   ]
  },
  {
   "cell_type": "markdown",
   "metadata": {},
   "source": [
    "## Step 1:  Getting, understanding, and preprocessing the dataset\n",
    "\n",
    "We first import the standard libaries and some libraries that will help us scale the data and perform some \"feature engineering\" by transforming the data into $\\Phi_2({\\bf x})$"
   ]
  },
  {
   "cell_type": "markdown",
   "metadata": {},
   "source": []
  },
  {
   "cell_type": "code",
   "execution_count": 53,
   "metadata": {},
   "outputs": [],
   "source": [
    "import numpy as np\n",
    "import sklearn\n",
    "from sklearn.datasets import load_boston\n",
    "from sklearn.preprocessing import PolynomialFeatures\n",
    "from sklearn import preprocessing\n",
    "from sklearn.model_selection import train_test_split\n",
    "import sklearn.linear_model\n",
    "from sklearn.model_selection import KFold\n",
    "from sklearn.preprocessing import PolynomialFeatures\n"
   ]
  },
  {
   "cell_type": "markdown",
   "metadata": {},
   "source": [
    "###  Importing the dataset"
   ]
  },
  {
   "cell_type": "code",
   "execution_count": 54,
   "metadata": {},
   "outputs": [
    {
     "data": {
      "text/plain": [
       "dict_keys(['data', 'target', 'feature_names', 'DESCR', 'filename'])"
      ]
     },
     "execution_count": 54,
     "metadata": {},
     "output_type": "execute_result"
    }
   ],
   "source": [
    "boston_data = load_boston()\n",
    "boston_data.keys()"
   ]
  },
  {
   "cell_type": "code",
   "execution_count": 55,
   "metadata": {},
   "outputs": [
    {
     "name": "stdout",
     "output_type": "stream",
     "text": [
      "The number of features is:  13\n",
      "The features:  ['CRIM' 'ZN' 'INDUS' 'CHAS' 'NOX' 'RM' 'AGE' 'DIS' 'RAD' 'TAX' 'PTRATIO'\n",
      " 'B' 'LSTAT']\n",
      "The number of exampels in our dataset:  506\n",
      "[[6.3200e-03 1.8000e+01 2.3100e+00 0.0000e+00 5.3800e-01 6.5750e+00\n",
      "  6.5200e+01 4.0900e+00 1.0000e+00 2.9600e+02 1.5300e+01 3.9690e+02\n",
      "  4.9800e+00]\n",
      " [2.7310e-02 0.0000e+00 7.0700e+00 0.0000e+00 4.6900e-01 6.4210e+00\n",
      "  7.8900e+01 4.9671e+00 2.0000e+00 2.4200e+02 1.7800e+01 3.9690e+02\n",
      "  9.1400e+00]]\n"
     ]
    }
   ],
   "source": [
    "#  Create X and Y variables - X holding the .data and Y holding .target \n",
    "X = boston_data.data\n",
    "Y = boston_data.target\n",
    "#  Reshape Y to be a rank 2 matrix using y.reshape()\n",
    "Y = Y.reshape(X.shape[0],1) \n",
    "# Observe the number of features and the number of labels\n",
    "print('The number of features is: ', X.shape[1])\n",
    "# Printing out the features\n",
    "print('The features: ', boston_data.feature_names)\n",
    "# The number of examples\n",
    "print('The number of exampels in our dataset: ', X.shape[0])\n",
    "# Observing the first 2 rows of the data\n",
    "print(X[0:2])\n"
   ]
  },
  {
   "cell_type": "markdown",
   "metadata": {},
   "source": [
    "We will also create polynomial feeatures for the dataset to test linear and ridge regression on data with d = 1 and data with d = 2. Feel free to increase the # of degress and see what effect it has on the training and test error. "
   ]
  },
  {
   "cell_type": "code",
   "execution_count": 56,
   "metadata": {},
   "outputs": [],
   "source": [
    "# Create a PolynomialFeatures object with degree = 2. Using PolynomialFeatures(degree=2)\n",
    "# Transform X and save it into X_2 using poly.fit_transform(X)\n",
    "# Simply copy Y into Y_2 \n",
    "\n",
    "poly=PolynomialFeatures(degree=2)\n",
    "X_2 = poly.fit_transform(X)\n",
    "Y_2 = Y"
   ]
  },
  {
   "cell_type": "code",
   "execution_count": 57,
   "metadata": {},
   "outputs": [
    {
     "name": "stdout",
     "output_type": "stream",
     "text": [
      "(506, 105)\n",
      "(506, 1)\n",
      "[[1.00000000e+00 6.32000000e-03 1.80000000e+01 ... 1.57529610e+05\n",
      "  1.97656200e+03 2.48004000e+01]\n",
      " [1.00000000e+00 2.73100000e-02 0.00000000e+00 ... 1.57529610e+05\n",
      "  3.62766600e+03 8.35396000e+01]\n",
      " [1.00000000e+00 2.72900000e-02 0.00000000e+00 ... 1.54315409e+05\n",
      "  1.58310490e+03 1.62409000e+01]\n",
      " ...\n",
      " [1.00000000e+00 6.07600000e-02 0.00000000e+00 ... 1.57529610e+05\n",
      "  2.23851600e+03 3.18096000e+01]\n",
      " [1.00000000e+00 1.09590000e-01 0.00000000e+00 ... 1.54802902e+05\n",
      "  2.54955600e+03 4.19904000e+01]\n",
      " [1.00000000e+00 4.74100000e-02 0.00000000e+00 ... 1.57529610e+05\n",
      "  3.12757200e+03 6.20944000e+01]]\n"
     ]
    }
   ],
   "source": [
    "# the shape of X_2 and Y_2 - should be (506, 105) and (506, 1) respectively\n",
    "print(X_2.shape)\n",
    "print(Y_2.shape)\n",
    "print(X_2)\n"
   ]
  },
  {
   "cell_type": "markdown",
   "metadata": {},
   "source": [
    "# Your code goes here"
   ]
  },
  {
   "cell_type": "code",
   "execution_count": 58,
   "metadata": {},
   "outputs": [],
   "source": [
    "# Define the get_coeff_ridge_normaleq function. Use the normal equation method.\n",
    "# Return w values\n",
    "\n",
    "def get_coeff_ridge_normaleq(X_train, Y_train, alpha):\n",
    "    X_train = np.c_[X_train,np.ones((X_train.shape[0],1))]\n",
    "    dot_of_XT_X = X_train.transpose().dot(X_train)\n",
    "    matrix_1 = np.linalg.pinv(dot_of_XT_X + alpha * np.identity (dot_of_XT_X.shape[1]))\n",
    "    matrix_2 = X_train.transpose().dot(Y_train)\n",
    "    w = matrix_1.dot(matrix_2)\n",
    "    return w\n",
    "\n"
   ]
  },
  {
   "cell_type": "code",
   "execution_count": 59,
   "metadata": {},
   "outputs": [],
   "source": [
    "# Define the get_coeff_ridge_normaleq function. Use the normal equation method.\n",
    "# Return w values\n",
    "\n",
    "def get_coeff_linear_normaleq(X_train, Y_train):\n",
    "    X_train = np.c_[X_train,np.ones((X_train.shape[0],1))]\n",
    "    dot_of_XT_X = X_train.transpose().dot(X_train)\n",
    "    inv_dot_of_XT_X = np.linalg.pinv(dot_of_XT_X)\n",
    "    dot_of_XT_Y = X_train.transpose().dot(Y_train)\n",
    "    w = inv_dot_of_XT_X.dot(dot_of_XT_Y)\n",
    "    return w\n",
    "\n"
   ]
  },
  {
   "cell_type": "code",
   "execution_count": 60,
   "metadata": {},
   "outputs": [],
   "source": [
    "# Define the evaluate_err_ridge function.\n",
    "# Return the train_error and test_error values\n",
    "\n",
    "\n",
    "def evaluate_err(X_train, X_test, y_train, y_test, w): \n",
    "#     pred_train=prediction using w and X_tran+np.mean(y_train)\n",
    "#     pred_test=prediction using w and X_test\n",
    "#     remember to add the mean back\n",
    "#     train_error=...\n",
    "#     test_error=...\n",
    "    X_train = np.c_[X_train,np.ones((X_train.shape[0],1))]\n",
    "    X_test = np.c_[X_test,np.ones((X_test.shape[0],1))]\n",
    "    pred_train = X_train.dot(w)\n",
    "    pred_test = X_test.dot(w)\n",
    "    train_error = np.square(y_train-pred_train).mean()\n",
    "    test_error = np.square(y_test-pred_test).mean()\n",
    "    return train_error, test_error\n"
   ]
  },
  {
   "cell_type": "code",
   "execution_count": 61,
   "metadata": {},
   "outputs": [],
   "source": [
    "def k_fold_cross_validation(k, X, y, alpha,linearORridge):\n",
    "    kf = KFold(n_splits=k, random_state=21, shuffle=True)\n",
    "    total_E_val_test = 0\n",
    "    total_E_val_train = 0\n",
    "    for train_index, test_index in kf.split(X):\n",
    "        X_train, X_test = X[train_index], X[test_index]\n",
    "        y_train, y_test = y[train_index], y[test_index]\n",
    "        # Centering the data so we do not need the intercept term (we could have also chose w_0=average y value)\n",
    "        # Subtract y_train_mean from y_train and y_test\n",
    "        y_train_mean = np.mean(y_train)\n",
    "        y_train = y_train-y_train_mean\n",
    "        y_test = y_test-y_train_mean\n",
    "        # Scaling the data matrix\n",
    "        # Using scaler=preprocessing.StandardScaler().fit(...)\n",
    "        # And scaler.transform(...)\n",
    "        scaler=preprocessing.StandardScaler().fit(X_train)\n",
    "        X_train = scaler.transform(X_train)\n",
    "        X_test = scaler.transform(X_test)\n",
    "        # Determine the training error and the test error\n",
    "        # Use get_coeff_linear_normaleq or get_coeff_ridge_normaleq to get w\n",
    "        # And use evaluate_err() \n",
    "        if (linearORridge==\"ridge\"):\n",
    "            vtraintotal,vtesttotal= evaluate_err(X_train,X_test, y_train, y_test ,get_coeff_ridge_normaleq(X_train, y_train, alpha))\n",
    "            total_E_val_train+=vtraintotal\n",
    "            total_E_val_test+=vtesttotal\n",
    "        elif (linearORridge==\"linear\"):\n",
    "            vtraintotal,vtesttotal= evaluate_err(X_train,X_test, y_train, y_test ,get_coeff_linear_normaleq(X_train, y_train))\n",
    "            total_E_val_train+=vtraintotal\n",
    "            total_E_val_test+=vtesttotal\n",
    "            \n",
    "    return  total_E_val_test/k, total_E_val_train/k\n",
    "       ##############\n",
    "    \n"
   ]
  },
  {
   "cell_type": "code",
   "execution_count": 62,
   "metadata": {},
   "outputs": [
    {
     "name": "stdout",
     "output_type": "stream",
     "text": [
      "Average Linear(Standard) Test Error:  23.636068605428143\n",
      "Average Linear(Standard) Train Error:  21.806183575851065\n",
      "Average Linear(Polynomial) Test Error:  11.854968234573025\n",
      "Average Linear(Polynomial) Train Error:  5.8088208160124655\n",
      "Average Ridge(Standard) Test Error:  23.68858300163877\n",
      "Average Ridge(Standard) Train Error:  21.89290115757019\n",
      "Average Ridge(Polynomial) Test Error:  13.476138001136126\n",
      "Average Ridge(Polynomial) Train Error:  10.049055874118872\n"
     ]
    }
   ],
   "source": [
    "# print the error for the both linear regression and ridge regression\n",
    "# the error should include both training error and testing error\n",
    "total_E_val_test_linear, total_E_val_train_linear = k_fold_cross_validation(10,X,Y,0,\"linear\")\n",
    "print(\"Average Linear(Standard) Test Error: \",total_E_val_test_linear)\n",
    "print(\"Average Linear(Standard) Train Error: \",total_E_val_train_linear)\n",
    "total_E_val_test_ridge, total_E_val_train_ridge = k_fold_cross_validation(10,X_2,Y_2,0,\"linear\")\n",
    "print(\"Average Linear(Polynomial) Test Error: \",total_E_val_test_ridge)\n",
    "print(\"Average Linear(Polynomial) Train Error: \",total_E_val_train_ridge)\n",
    "total_E_val_test_ridge, total_E_val_train_ridge = k_fold_cross_validation(10,X,Y,10,\"ridge\")\n",
    "print(\"Average Ridge(Standard) Test Error: \",total_E_val_test_ridge)\n",
    "print(\"Average Ridge(Standard) Train Error: \",total_E_val_train_ridge)\n",
    "total_E_val_test_ridge, total_E_val_train_ridge = k_fold_cross_validation(10,X_2,Y_2,10,\"ridge\")\n",
    "print(\"Average Ridge(Polynomial) Test Error: \",total_E_val_test_ridge)\n",
    "print(\"Average Ridge(Polynomial) Train Error: \",total_E_val_train_ridge)"
   ]
  },
  {
   "cell_type": "code",
   "execution_count": 63,
   "metadata": {},
   "outputs": [
    {
     "name": "stdout",
     "output_type": "stream",
     "text": [
      "Ridge Normal\n",
      "\n",
      "\n",
      "i = 10.0\n",
      "Test Error: 23.68858300163877 Train Error: 21.89290115757019\n",
      "\n",
      "\n",
      "i = 31.622776601683793\n",
      "Test Error: 24.017840297386172 Train Error: 22.285444055697504\n",
      "\n",
      "\n",
      "i = 100.0\n",
      "Test Error: 25.293852553695146 Train Error: 23.725488384882084\n",
      "\n",
      "\n",
      "i = 316.22776601683796\n",
      "Test Error: 29.45729622289678 Train Error: 28.166554098540114\n",
      "\n",
      "\n",
      "i = 1000.0\n",
      "Test Error: 39.48949335939871 Train Error: 38.53214872734357\n",
      "\n",
      "\n",
      "i = 3162.2776601683795\n",
      "Test Error: 54.64719107794948 Train Error: 54.00702649955448\n",
      "\n",
      "\n",
      "i = 10000.0\n",
      "Test Error: 69.71851750884511 Train Error: 69.2597817132532\n",
      "\n",
      "\n",
      "i = 31622.776601683792\n",
      "Test Error: 78.92162110435102 Train Error: 78.53074243629268\n",
      "\n",
      "\n",
      "i = 100000.0\n",
      "Test Error: 82.7724042894599 Train Error: 82.40325012491367\n",
      "\n",
      "\n",
      "i = 316227.7660168379\n",
      "Test Error: 84.11748625821778 Train Error: 83.75514887733652\n",
      "\n",
      "\n",
      "i = 1000000.0\n",
      "Test Error: 84.5569941832673 Train Error: 84.19680334862025\n",
      "\n",
      "\n",
      "i = 3162277.6601683795\n",
      "Test Error: 84.69744416333866 Train Error: 84.33793107733854\n",
      "\n",
      "\n",
      "i = 10000000.0\n",
      "Test Error: 84.74200651304514 Train Error: 84.38270764054002\n",
      "\n",
      "\n"
     ]
    }
   ],
   "source": [
    "print(\"Ridge Normal\")\n",
    "print(\"\\n\")\n",
    "for i in np.logspace(1, 7, num=13):\n",
    "  test, train = k_fold_cross_validation(10,X,Y,i,\"ridge\")\n",
    "  print(\"i = \"+str(i))\n",
    "  print(\"Test Error: \"+str(test)+\" Train Error: \"+str(train))\n",
    "  print(\"\\n\")\n",
    "\n"
   ]
  },
  {
   "cell_type": "code",
   "execution_count": 64,
   "metadata": {},
   "outputs": [
    {
     "name": "stdout",
     "output_type": "stream",
     "text": [
      "Ridge Polynomail\n",
      "\n",
      "\n",
      "i = 10.0\n",
      "Test Error: 13.476138001136126 Train Error: 10.049055874118872\n",
      "\n",
      "\n",
      "i = 31.622776601683793\n",
      "Test Error: 15.829601969051154 Train Error: 12.75170626904678\n",
      "\n",
      "\n",
      "i = 100.0\n",
      "Test Error: 18.98001881500995 Train Error: 16.222690593210807\n",
      "\n",
      "\n",
      "i = 316.22776601683796\n",
      "Test Error: 22.068692308062722 Train Error: 19.70025364640986\n",
      "\n",
      "\n",
      "i = 1000.0\n",
      "Test Error: 26.21847559440484 Train Error: 24.28745798310889\n",
      "\n",
      "\n",
      "i = 3162.2776601683795\n",
      "Test Error: 34.580266018800174 Train Error: 33.086668319850524\n",
      "\n",
      "\n",
      "i = 10000.0\n",
      "Test Error: 47.78952058756749 Train Error: 46.76199935941409\n",
      "\n",
      "\n",
      "i = 31622.776601683792\n",
      "Test Error: 62.646288813443356 Train Error: 62.009001916836056\n",
      "\n",
      "\n",
      "i = 100000.0\n",
      "Test Error: 74.73795160641836 Train Error: 74.28758894586744\n",
      "\n",
      "\n",
      "i = 316227.7660168379\n",
      "Test Error: 81.07998618951191 Train Error: 80.69255135236737\n",
      "\n",
      "\n",
      "i = 1000000.0\n",
      "Test Error: 83.53524235105219 Train Error: 83.16723569778432\n",
      "\n",
      "\n",
      "i = 3162277.6601683795\n",
      "Test Error: 84.36776579104057 Train Error: 84.00579580096273\n",
      "\n",
      "\n",
      "i = 10000000.0\n",
      "Test Error: 84.63708052069056 Train Error: 84.2770062647736\n",
      "\n",
      "\n"
     ]
    }
   ],
   "source": [
    "print(\"Ridge Polynomail\")\n",
    "print(\"\\n\")\n",
    "for i in np.logspace(1, 7, num=13):\n",
    "  test, train = k_fold_cross_validation(10,X_2,Y_2,i,\"ridge\")\n",
    "  print(\"i = \"+str(i))\n",
    "  print(\"Test Error: \"+str(test)+\" Train Error: \"+str(train))\n",
    "  print(\"\\n\")\n"
   ]
  },
  {
   "cell_type": "markdown",
   "metadata": {},
   "source": [
    "## If you are given a choice of predicting future housing prices using one of the models you have learned above, which one would you choose and why? State the parameters of that model.\n",
    "\n"
   ]
  },
  {
   "attachments": {
    "image.png": {
     "image/png": "[encoded data removed]"
    }
   },
   "cell_type": "markdown",
   "metadata": {},
   "source": [
    "![image.png](attachment:image.png)"
   ]
  },
  {
   "cell_type": "markdown",
   "metadata": {},
   "source": [
    "#### Polynomial or Normal?\n",
    "I would choose polynomial because when I compared between the results from X,y and X_2,y_2, I found out that X_2, y_2 is better than x,y because the train error and the test error was relativley smaller. So If I want to predict future housing prices, I would use polynomial data. Average Linear Polynomial < Average Linear Standard, and Average Ridge Polynomial< Average Ridge Standard. Therefore I would with polynomial\n",
    "\n",
    "#### Linear or Ridge?\n",
    "I would choose the linear model. Overall after analyzing the results, the linear model had lower training errors and lower test errors, so I believe that its a better fit, as A model. Average Linear Standard < Average Ridge Standard, and Average linear Polynomial< Average Linear Polynomial. Therefore I would go with Linear\n",
    "\n",
    "\n",
    "I would choose linear polynomial as it had the lowest train errors with 11.85% for test error and 5.80% for train error."
   ]
  },
  {
   "cell_type": "code",
   "execution_count": null,
   "metadata": {},
   "outputs": [],
   "source": []
  }
 ],
 "metadata": {
  "kernelspec": {
   "display_name": "Python 3",
   "language": "python",
   "name": "python3"
  },
  "language_info": {
   "codemirror_mode": {
    "name": "ipython",
    "version": 3
   },
   "file_extension": ".py",
   "mimetype": "text/x-python",
   "name": "python",
   "nbconvert_exporter": "python",
   "pygments_lexer": "ipython3",
   "version": "3.8.3"
  }
 },
 "nbformat": 4,
 "nbformat_minor": 2
}
